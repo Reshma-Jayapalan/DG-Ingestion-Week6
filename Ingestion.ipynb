{
  "nbformat": 4,
  "nbformat_minor": 0,
  "metadata": {
    "kernelspec": {
      "display_name": "Python 3",
      "language": "python",
      "name": "python3"
    },
    "language_info": {
      "codemirror_mode": {
        "name": "ipython",
        "version": 3
      },
      "file_extension": ".py",
      "mimetype": "text/x-python",
      "name": "python",
      "nbconvert_exporter": "python",
      "pygments_lexer": "ipython3",
      "version": "3.8.8"
    },
    "colab": {
      "name": "Ingestion.ipynb",
      "provenance": [],
      "collapsed_sections": []
    }
  },
  "cells": [
    {
      "cell_type": "code",
      "metadata": {
        "id": "wcdnbr_-56Xn"
      },
      "source": [
        "#from google.colab import drive\n",
        "#drive.mount('/content/gdrive')"
      ],
      "execution_count": 1,
      "outputs": []
    },
    {
      "cell_type": "code",
      "metadata": {
        "colab": {
          "base_uri": "https://localhost:8080/"
        },
        "id": "zpU0VkE8lT3H",
        "outputId": "2c612ca1-9e4d-4569-aa35-99d1551e056c"
      },
      "source": [
        "%%writefile test_utility.py\n",
        "import logging\n",
        "import os\n",
        "import subprocess\n",
        "import yaml\n",
        "import pandas as pd\n",
        "import datetime \n",
        "import gc\n",
        "import re\n",
        "\n",
        "\n",
        "################\n",
        "# File Reading #\n",
        "################\n",
        "\n",
        "def read_config_file(filepath): \n",
        "    with open(filepath, 'r') as stream:\n",
        "        try:\n",
        "            return yaml.safe_load(stream)\n",
        "        except yaml.YAMLError as exc:\n",
        "            logging.error(exc)\n",
        "\n",
        "def replacer(string, char):\n",
        "    pattern = char + '{2,}'\n",
        "    string = re.sub(pattern, char, string) \n",
        "    return string\n",
        "\n",
        "def col_header_val(df,table_config):\n",
        "    '''\n",
        "    replace whitespaces in the column\n",
        "    and standardized column names\n",
        "    '''\n",
        "    df.columns = df.columns.str.replace(' ', '')#removing the white spaces in the column names\n",
        "    df.columns = df.columns.str.replace('[#,@,&,?]', '') #removing special characters\n",
        "    expected_col = list(map(lambda x: x.lower(),  table_config['columns']))\n",
        "    df.columns =list(map(lambda x: x.lower(), list(df.columns)))\n",
        "    if len(df.columns) == len(expected_col) and list(expected_col)  == list(df.columns):\n",
        "        print(\"column name and column length validation passed\")\n",
        "        return 1\n",
        "    else:\n",
        "        print(\"column name and column length validation failed\")\n",
        "        mismatched_columns_file = list(set(df.columns).difference(expected_col))\n",
        "        print(\"Following File columns are not in the YAML file\",mismatched_columns_file)\n",
        "        missing_YAML_file = list(set(expected_col).difference(df.columns))\n",
        "        print(\"Following YAML columns are not in the file uploaded\",missing_YAML_file)\n",
        "        logging.info(f'df columns: {df.columns}')\n",
        "        logging.info(f'expected columns: {expected_col}')\n",
        "        return 0"
      ],
      "execution_count": 2,
      "outputs": [
        {
          "output_type": "stream",
          "name": "stdout",
          "text": [
            "Overwriting test_utility.py\n"
          ]
        }
      ]
    },
    {
      "cell_type": "code",
      "metadata": {
        "colab": {
          "base_uri": "https://localhost:8080/"
        },
        "id": "fdP_mrvBlT3W",
        "outputId": "3731710a-32e6-463a-d684-a995b3faf7e8"
      },
      "source": [
        "%%writefile file.yaml\n",
        "file_type: csv\n",
        "dataset_name: taxifile\n",
        "file_name: yellow_tripdata_2015-03\n",
        "file_path: /content/gdrive/yellow_tripdata_2015-03.csv\n",
        "inbound_delimiter: \",\"\n",
        "outbound_delimiter: \"|\"\n",
        "columns: \n",
        "    - vendorid\n",
        "    - tpep_pickup_datetime\n",
        "    - tpep_dropoff_datetime\n",
        "    - passenger_count\n",
        "    - trip_distance\n",
        "    - pickup_longitude\n",
        "    - pickup_latitude\n",
        "    - ratecodeid\n",
        "    - store_and_fwd_flag\n",
        "    - dropoff_longitude\n",
        "    - dropoff_latitude\n",
        "    - payment_type\n",
        "    - fare_amount\n",
        "    - extra\n",
        "    - mta_tax\n",
        "    - tip_amount\n",
        "    - tolls_amount\n",
        "    - improvement_surcharge\n",
        "    - total_amount\n",
        "  "
      ],
      "execution_count": 3,
      "outputs": [
        {
          "output_type": "stream",
          "name": "stdout",
          "text": [
            "Overwriting file.yaml\n"
          ]
        }
      ]
    },
    {
      "cell_type": "code",
      "metadata": {
        "id": "dMJikT5ulT3Z"
      },
      "source": [
        "# Reading config file\n",
        "import test_utility as util\n",
        "config_data = util.read_config_file(\"file.yaml\")"
      ],
      "execution_count": 4,
      "outputs": []
    },
    {
      "cell_type": "code",
      "metadata": {
        "colab": {
          "base_uri": "https://localhost:8080/",
          "height": 35
        },
        "id": "wdh_BFPDlT3a",
        "outputId": "6c769fe5-42f9-400e-9e44-5b8d4454dc5d"
      },
      "source": [
        "config_data['inbound_delimiter']"
      ],
      "execution_count": 5,
      "outputs": [
        {
          "output_type": "execute_result",
          "data": {
            "application/vnd.google.colaboratory.intrinsic+json": {
              "type": "string"
            },
            "text/plain": [
              "','"
            ]
          },
          "metadata": {},
          "execution_count": 5
        }
      ]
    },
    {
      "cell_type": "code",
      "metadata": {
        "colab": {
          "base_uri": "https://localhost:8080/"
        },
        "id": "eNK6nH1ilT3c",
        "outputId": "b27533cd-cafb-45dc-8fad-9b4f8c92f976"
      },
      "source": [
        "#inspecting data of config file\n",
        "config_data"
      ],
      "execution_count": 6,
      "outputs": [
        {
          "output_type": "execute_result",
          "data": {
            "text/plain": [
              "{'columns': ['vendorid',\n",
              "  'tpep_pickup_datetime',\n",
              "  'tpep_dropoff_datetime',\n",
              "  'passenger_count',\n",
              "  'trip_distance',\n",
              "  'pickup_longitude',\n",
              "  'pickup_latitude',\n",
              "  'ratecodeid',\n",
              "  'store_and_fwd_flag',\n",
              "  'dropoff_longitude',\n",
              "  'dropoff_latitude',\n",
              "  'payment_type',\n",
              "  'fare_amount',\n",
              "  'extra',\n",
              "  'mta_tax',\n",
              "  'tip_amount',\n",
              "  'tolls_amount',\n",
              "  'improvement_surcharge',\n",
              "  'total_amount'],\n",
              " 'dataset_name': 'taxifile',\n",
              " 'file_name': 'yellow_tripdata_2015-03',\n",
              " 'file_path': '/content/gdrive/yellow_tripdata_2015-03.csv',\n",
              " 'file_type': 'csv',\n",
              " 'inbound_delimiter': ',',\n",
              " 'outbound_delimiter': '|'}"
            ]
          },
          "metadata": {},
          "execution_count": 6
        }
      ]
    },
    {
      "cell_type": "code",
      "metadata": {
        "id": "Syb3w_jUDoU_"
      },
      "source": [
        "import tracemalloc\n",
        "import time"
      ],
      "execution_count": 7,
      "outputs": []
    },
    {
      "cell_type": "code",
      "metadata": {
        "id": "j2zHF_JrDsuD"
      },
      "source": [
        "def tracing_start():\n",
        "    tracemalloc.stop()\n",
        "    print(\"nTracing Status : \", tracemalloc.is_tracing())\n",
        "    tracemalloc.start()\n",
        "    print(\"Tracing Status : \", tracemalloc.is_tracing())\n",
        "def tracing_mem():\n",
        "    first_size, first_peak = tracemalloc.get_traced_memory()\n",
        "    peak = first_peak/(1024*1024)\n",
        "    print(\"Peak Size in MB - \", peak)"
      ],
      "execution_count": 8,
      "outputs": []
    },
    {
      "cell_type": "code",
      "metadata": {
        "colab": {
          "base_uri": "https://localhost:8080/"
        },
        "id": "lf7FBNN25dGq",
        "outputId": "bd148bab-78f8-4972-a3e3-9542211a3807"
      },
      "source": [
        "# Normal reading process of the file\n",
        "import pandas as pd\n",
        "tracing_start()\n",
        "start = time.time()\n",
        "df_sample = pd.read_csv('/content/gdrive/My Drive/yellow_tripdata_2015-03.csv')\n",
        "\n",
        "end = time.time()\n",
        "print(\"time elapsed {} milli seconds\".format((end-start)*1000))\n",
        "tracing_mem()"
      ],
      "execution_count": 9,
      "outputs": [
        {
          "output_type": "stream",
          "name": "stdout",
          "text": [
            "nTracing Status :  False\n",
            "Tracing Status :  True\n",
            "time elapsed 70665.42172431946 milli seconds\n",
            "Peak Size in MB -  7488.050775527954\n"
          ]
        }
      ]
    },
    {
      "cell_type": "code",
      "metadata": {
        "colab": {
          "base_uri": "https://localhost:8080/",
          "height": 226
        },
        "id": "eFVHPiNbFMyT",
        "outputId": "cfd55f61-5cf6-47be-8d59-e948b327e30e"
      },
      "source": [
        "df_sample.head()"
      ],
      "execution_count": 10,
      "outputs": [
        {
          "output_type": "execute_result",
          "data": {
            "text/html": [
              "<div>\n",
              "<style scoped>\n",
              "    .dataframe tbody tr th:only-of-type {\n",
              "        vertical-align: middle;\n",
              "    }\n",
              "\n",
              "    .dataframe tbody tr th {\n",
              "        vertical-align: top;\n",
              "    }\n",
              "\n",
              "    .dataframe thead th {\n",
              "        text-align: right;\n",
              "    }\n",
              "</style>\n",
              "<table border=\"1\" class=\"dataframe\">\n",
              "  <thead>\n",
              "    <tr style=\"text-align: right;\">\n",
              "      <th></th>\n",
              "      <th>VendorID</th>\n",
              "      <th>tpep_pickup_datetime</th>\n",
              "      <th>tpep_dropoff_datetime</th>\n",
              "      <th>passenger_count</th>\n",
              "      <th>trip_distance</th>\n",
              "      <th>pickup_longitude</th>\n",
              "      <th>pickup_latitude</th>\n",
              "      <th>RateCodeID</th>\n",
              "      <th>store_and_fwd_flag</th>\n",
              "      <th>dropoff_longitude</th>\n",
              "      <th>dropoff_latitude</th>\n",
              "      <th>payment_type</th>\n",
              "      <th>fare_amount</th>\n",
              "      <th>extra</th>\n",
              "      <th>mta_tax</th>\n",
              "      <th>tip_amount</th>\n",
              "      <th>tolls_amount</th>\n",
              "      <th>improvement_surcharge</th>\n",
              "      <th>total_amount</th>\n",
              "    </tr>\n",
              "  </thead>\n",
              "  <tbody>\n",
              "    <tr>\n",
              "      <th>0</th>\n",
              "      <td>1</td>\n",
              "      <td>2015-03-06 08:02:31</td>\n",
              "      <td>2015-03-06 08:09:55</td>\n",
              "      <td>1</td>\n",
              "      <td>1.2</td>\n",
              "      <td>-73.990211</td>\n",
              "      <td>40.750969</td>\n",
              "      <td>1</td>\n",
              "      <td>N</td>\n",
              "      <td>-73.987892</td>\n",
              "      <td>40.738037</td>\n",
              "      <td>2</td>\n",
              "      <td>7.0</td>\n",
              "      <td>0.0</td>\n",
              "      <td>0.5</td>\n",
              "      <td>0.00</td>\n",
              "      <td>0.0</td>\n",
              "      <td>0.3</td>\n",
              "      <td>7.80</td>\n",
              "    </tr>\n",
              "    <tr>\n",
              "      <th>1</th>\n",
              "      <td>1</td>\n",
              "      <td>2015-03-06 08:02:31</td>\n",
              "      <td>2015-03-06 08:15:23</td>\n",
              "      <td>1</td>\n",
              "      <td>3.2</td>\n",
              "      <td>-73.935188</td>\n",
              "      <td>40.800720</td>\n",
              "      <td>1</td>\n",
              "      <td>N</td>\n",
              "      <td>-73.952553</td>\n",
              "      <td>40.765373</td>\n",
              "      <td>2</td>\n",
              "      <td>11.5</td>\n",
              "      <td>0.0</td>\n",
              "      <td>0.5</td>\n",
              "      <td>0.00</td>\n",
              "      <td>0.0</td>\n",
              "      <td>0.3</td>\n",
              "      <td>12.30</td>\n",
              "    </tr>\n",
              "    <tr>\n",
              "      <th>2</th>\n",
              "      <td>1</td>\n",
              "      <td>2015-03-06 08:02:31</td>\n",
              "      <td>2015-03-06 08:12:27</td>\n",
              "      <td>1</td>\n",
              "      <td>1.1</td>\n",
              "      <td>-73.963753</td>\n",
              "      <td>40.767937</td>\n",
              "      <td>1</td>\n",
              "      <td>N</td>\n",
              "      <td>-73.956947</td>\n",
              "      <td>40.780270</td>\n",
              "      <td>2</td>\n",
              "      <td>8.0</td>\n",
              "      <td>0.0</td>\n",
              "      <td>0.5</td>\n",
              "      <td>0.00</td>\n",
              "      <td>0.0</td>\n",
              "      <td>0.3</td>\n",
              "      <td>8.80</td>\n",
              "    </tr>\n",
              "    <tr>\n",
              "      <th>3</th>\n",
              "      <td>1</td>\n",
              "      <td>2015-03-06 08:02:31</td>\n",
              "      <td>2015-03-06 08:09:09</td>\n",
              "      <td>1</td>\n",
              "      <td>0.8</td>\n",
              "      <td>-73.997177</td>\n",
              "      <td>40.742168</td>\n",
              "      <td>1</td>\n",
              "      <td>N</td>\n",
              "      <td>-74.008064</td>\n",
              "      <td>40.739281</td>\n",
              "      <td>1</td>\n",
              "      <td>6.0</td>\n",
              "      <td>0.0</td>\n",
              "      <td>0.5</td>\n",
              "      <td>1.00</td>\n",
              "      <td>0.0</td>\n",
              "      <td>0.3</td>\n",
              "      <td>7.80</td>\n",
              "    </tr>\n",
              "    <tr>\n",
              "      <th>4</th>\n",
              "      <td>1</td>\n",
              "      <td>2015-03-06 08:02:32</td>\n",
              "      <td>2015-03-06 08:19:37</td>\n",
              "      <td>1</td>\n",
              "      <td>2.7</td>\n",
              "      <td>-74.006844</td>\n",
              "      <td>40.730267</td>\n",
              "      <td>1</td>\n",
              "      <td>N</td>\n",
              "      <td>-73.976860</td>\n",
              "      <td>40.750671</td>\n",
              "      <td>1</td>\n",
              "      <td>13.0</td>\n",
              "      <td>0.0</td>\n",
              "      <td>0.5</td>\n",
              "      <td>2.75</td>\n",
              "      <td>0.0</td>\n",
              "      <td>0.3</td>\n",
              "      <td>16.55</td>\n",
              "    </tr>\n",
              "  </tbody>\n",
              "</table>\n",
              "</div>"
            ],
            "text/plain": [
              "   VendorID tpep_pickup_datetime  ... improvement_surcharge  total_amount\n",
              "0         1  2015-03-06 08:02:31  ...                   0.3          7.80\n",
              "1         1  2015-03-06 08:02:31  ...                   0.3         12.30\n",
              "2         1  2015-03-06 08:02:31  ...                   0.3          8.80\n",
              "3         1  2015-03-06 08:02:31  ...                   0.3          7.80\n",
              "4         1  2015-03-06 08:02:32  ...                   0.3         16.55\n",
              "\n",
              "[5 rows x 19 columns]"
            ]
          },
          "metadata": {},
          "execution_count": 10
        }
      ]
    },
    {
      "cell_type": "code",
      "metadata": {
        "colab": {
          "base_uri": "https://localhost:8080/"
        },
        "id": "0_87W06UGcKi",
        "outputId": "297d2c18-8970-478d-fe37-156cebcd7013"
      },
      "source": [
        "df_sample.shape"
      ],
      "execution_count": 11,
      "outputs": [
        {
          "output_type": "execute_result",
          "data": {
            "text/plain": [
              "(13351609, 19)"
            ]
          },
          "metadata": {},
          "execution_count": 11
        }
      ]
    },
    {
      "cell_type": "code",
      "metadata": {
        "colab": {
          "base_uri": "https://localhost:8080/"
        },
        "id": "q39iIbZZJWX8",
        "outputId": "fd19788a-768c-4dcc-b5e8-5f1bfb5c575f"
      },
      "source": [
        "# Reading file in Dask\n",
        "import dask.dataframe as dd\n",
        "tracing_start()\n",
        "start = time.time()\n",
        "df_sample1 = dd.read_csv('/content/gdrive/My Drive/yellow_tripdata_2015-03.csv')\n",
        "end = time.time()\n",
        "print(\"time elapsed {} milli seconds\".format((end-start)*1000))\n",
        "tracing_mem()"
      ],
      "execution_count": 12,
      "outputs": [
        {
          "output_type": "stream",
          "name": "stdout",
          "text": [
            "nTracing Status :  False\n",
            "Tracing Status :  True\n",
            "time elapsed 146.23236656188965 milli seconds\n",
            "Peak Size in MB -  1.5486268997192383\n"
          ]
        }
      ]
    },
    {
      "cell_type": "code",
      "metadata": {
        "id": "NWL6Oq47Lw9T"
      },
      "source": [
        "#!pip install ray[rllib]"
      ],
      "execution_count": 13,
      "outputs": []
    },
    {
      "cell_type": "code",
      "metadata": {
        "id": "NnySBAc6L-2O"
      },
      "source": [
        "#pip install -U pyarrow"
      ],
      "execution_count": 14,
      "outputs": []
    },
    {
      "cell_type": "code",
      "metadata": {
        "colab": {
          "base_uri": "https://localhost:8080/"
        },
        "id": "1R9_tdokJ4Qd",
        "outputId": "e1b6daff-d0bc-469f-d9bf-38a20a3ab02c"
      },
      "source": [
        "# Reading file in Ray\n",
        "import ray\n",
        "tracing_start()\n",
        "start = time.time()\n",
        "df_sample2 = ray.data.read_csv('/content/gdrive/My Drive/yellow_tripdata_2015-03.csv')\n",
        "end = time.time()\n",
        "print(\"time elapsed {} milli seconds\".format((end-start)*1000))\n",
        "tracing_mem()"
      ],
      "execution_count": 15,
      "outputs": [
        {
          "output_type": "stream",
          "name": "stdout",
          "text": [
            "nTracing Status :  False\n",
            "Tracing Status :  True\n",
            "time elapsed 62025.37298202515 milli seconds\n",
            "Peak Size in MB -  2.4924240112304688\n"
          ]
        }
      ]
    },
    {
      "cell_type": "code",
      "metadata": {
        "id": "xtC_Bn5FNy2_"
      },
      "source": [
        "#pip install modin"
      ],
      "execution_count": 16,
      "outputs": []
    },
    {
      "cell_type": "code",
      "metadata": {
        "colab": {
          "base_uri": "https://localhost:8080/"
        },
        "id": "qb2e_Tk2Na4H",
        "outputId": "f67c0d3a-3762-40da-8e2c-297a8a5692aa"
      },
      "source": [
        "# Reading file in Modin\n",
        "import modin.pandas as mp\n",
        "tracing_start()\n",
        "start = time.time()\n",
        "df_sample3 = mp.read_csv('/content/gdrive/My Drive/yellow_tripdata_2015-03.csv')\n",
        "end = time.time()\n",
        "print(\"time elapsed {} milli seconds\".format((end-start)*1000))\n",
        "tracing_mem()"
      ],
      "execution_count": 17,
      "outputs": [
        {
          "output_type": "stream",
          "name": "stdout",
          "text": [
            "nTracing Status :  False\n",
            "Tracing Status :  True\n"
          ]
        },
        {
          "output_type": "stream",
          "name": "stderr",
          "text": [
            "2021-10-08 23:46:38,837\tWARNING worker.py:1227 -- A worker died or was killed while executing a task by an unexpected system error. To troubleshoot the problem, check the logs for the dead worker. RayTask ID: 1c158c4d80de83ad82ed383f58c5f8daa631f257ec413be0 Worker ID: 79a54abd0dc6f7cf47df10e629d0b108dd548af9b2dda98e3544d1da Node ID: 05af1fdd54312ed8396f2fbea3476ea5280b376ffa2d543c27d180b0 Worker IP address: 172.28.0.2 Worker port: 35485 Worker PID: 4293\n",
            "2021-10-08 23:46:38,954\tWARNING worker.py:1227 -- 3 retries left for task 69a6825d641b4613ffffffffffffffffffffffff01000000, attempting to resubmit.\n",
            "\u001b[2m\u001b[33m(raylet)\u001b[0m [2021-10-08 23:48:08,057 E 4223 4223] local_object_manager.cc:271: Failed to send object spilling request: IOError: 14: Socket closed\n"
          ]
        },
        {
          "output_type": "stream",
          "name": "stdout",
          "text": [
            "time elapsed 184496.8090057373 milli seconds\n",
            "Peak Size in MB -  997.195990562439\n"
          ]
        }
      ]
    },
    {
      "cell_type": "code",
      "metadata": {
        "colab": {
          "base_uri": "https://localhost:8080/",
          "height": 226
        },
        "id": "fo6k64BHlT3d",
        "outputId": "20b51dde-6713-4517-c475-fe00ecb5805d"
      },
      "source": [
        "#reading file in csv using config file\n",
        "file_type = config_data['file_type']\n",
        "source_file = \"./\" + config_data['file_name'] + f'.{file_type}'\n",
        "df = dd.read_csv(source_file, delimiter=config_data['inbound_delimiter'],assume_missing=True)\n",
        "df.head()"
      ],
      "execution_count": 18,
      "outputs": [
        {
          "output_type": "execute_result",
          "data": {
            "text/html": [
              "<div>\n",
              "<style scoped>\n",
              "    .dataframe tbody tr th:only-of-type {\n",
              "        vertical-align: middle;\n",
              "    }\n",
              "\n",
              "    .dataframe tbody tr th {\n",
              "        vertical-align: top;\n",
              "    }\n",
              "\n",
              "    .dataframe thead th {\n",
              "        text-align: right;\n",
              "    }\n",
              "</style>\n",
              "<table border=\"1\" class=\"dataframe\">\n",
              "  <thead>\n",
              "    <tr style=\"text-align: right;\">\n",
              "      <th></th>\n",
              "      <th>VendorID</th>\n",
              "      <th>tpep_pickup_datetime</th>\n",
              "      <th>tpep_dropoff_datetime</th>\n",
              "      <th>passenger_count</th>\n",
              "      <th>trip_distance</th>\n",
              "      <th>pickup_longitude</th>\n",
              "      <th>pickup_latitude</th>\n",
              "      <th>RateCodeID</th>\n",
              "      <th>store_and_fwd_flag</th>\n",
              "      <th>dropoff_longitude</th>\n",
              "      <th>dropoff_latitude</th>\n",
              "      <th>payment_type</th>\n",
              "      <th>fare_amount</th>\n",
              "      <th>extra</th>\n",
              "      <th>mta_tax</th>\n",
              "      <th>tip_amount</th>\n",
              "      <th>tolls_amount</th>\n",
              "      <th>improvement_surcharge</th>\n",
              "      <th>total_amount</th>\n",
              "    </tr>\n",
              "  </thead>\n",
              "  <tbody>\n",
              "    <tr>\n",
              "      <th>0</th>\n",
              "      <td>1.0</td>\n",
              "      <td>2015-03-06 08:02:31</td>\n",
              "      <td>2015-03-06 08:09:55</td>\n",
              "      <td>1.0</td>\n",
              "      <td>1.2</td>\n",
              "      <td>-73.990211</td>\n",
              "      <td>40.750969</td>\n",
              "      <td>1.0</td>\n",
              "      <td>N</td>\n",
              "      <td>-73.987892</td>\n",
              "      <td>40.738037</td>\n",
              "      <td>2.0</td>\n",
              "      <td>7.0</td>\n",
              "      <td>0.0</td>\n",
              "      <td>0.5</td>\n",
              "      <td>0.00</td>\n",
              "      <td>0.0</td>\n",
              "      <td>0.3</td>\n",
              "      <td>7.80</td>\n",
              "    </tr>\n",
              "    <tr>\n",
              "      <th>1</th>\n",
              "      <td>1.0</td>\n",
              "      <td>2015-03-06 08:02:31</td>\n",
              "      <td>2015-03-06 08:15:23</td>\n",
              "      <td>1.0</td>\n",
              "      <td>3.2</td>\n",
              "      <td>-73.935188</td>\n",
              "      <td>40.800720</td>\n",
              "      <td>1.0</td>\n",
              "      <td>N</td>\n",
              "      <td>-73.952553</td>\n",
              "      <td>40.765373</td>\n",
              "      <td>2.0</td>\n",
              "      <td>11.5</td>\n",
              "      <td>0.0</td>\n",
              "      <td>0.5</td>\n",
              "      <td>0.00</td>\n",
              "      <td>0.0</td>\n",
              "      <td>0.3</td>\n",
              "      <td>12.30</td>\n",
              "    </tr>\n",
              "    <tr>\n",
              "      <th>2</th>\n",
              "      <td>1.0</td>\n",
              "      <td>2015-03-06 08:02:31</td>\n",
              "      <td>2015-03-06 08:12:27</td>\n",
              "      <td>1.0</td>\n",
              "      <td>1.1</td>\n",
              "      <td>-73.963753</td>\n",
              "      <td>40.767937</td>\n",
              "      <td>1.0</td>\n",
              "      <td>N</td>\n",
              "      <td>-73.956947</td>\n",
              "      <td>40.780270</td>\n",
              "      <td>2.0</td>\n",
              "      <td>8.0</td>\n",
              "      <td>0.0</td>\n",
              "      <td>0.5</td>\n",
              "      <td>0.00</td>\n",
              "      <td>0.0</td>\n",
              "      <td>0.3</td>\n",
              "      <td>8.80</td>\n",
              "    </tr>\n",
              "    <tr>\n",
              "      <th>3</th>\n",
              "      <td>1.0</td>\n",
              "      <td>2015-03-06 08:02:31</td>\n",
              "      <td>2015-03-06 08:09:09</td>\n",
              "      <td>1.0</td>\n",
              "      <td>0.8</td>\n",
              "      <td>-73.997177</td>\n",
              "      <td>40.742168</td>\n",
              "      <td>1.0</td>\n",
              "      <td>N</td>\n",
              "      <td>-74.008064</td>\n",
              "      <td>40.739281</td>\n",
              "      <td>1.0</td>\n",
              "      <td>6.0</td>\n",
              "      <td>0.0</td>\n",
              "      <td>0.5</td>\n",
              "      <td>1.00</td>\n",
              "      <td>0.0</td>\n",
              "      <td>0.3</td>\n",
              "      <td>7.80</td>\n",
              "    </tr>\n",
              "    <tr>\n",
              "      <th>4</th>\n",
              "      <td>1.0</td>\n",
              "      <td>2015-03-06 08:02:32</td>\n",
              "      <td>2015-03-06 08:19:37</td>\n",
              "      <td>1.0</td>\n",
              "      <td>2.7</td>\n",
              "      <td>-74.006844</td>\n",
              "      <td>40.730267</td>\n",
              "      <td>1.0</td>\n",
              "      <td>N</td>\n",
              "      <td>-73.976860</td>\n",
              "      <td>40.750671</td>\n",
              "      <td>1.0</td>\n",
              "      <td>13.0</td>\n",
              "      <td>0.0</td>\n",
              "      <td>0.5</td>\n",
              "      <td>2.75</td>\n",
              "      <td>0.0</td>\n",
              "      <td>0.3</td>\n",
              "      <td>16.55</td>\n",
              "    </tr>\n",
              "  </tbody>\n",
              "</table>\n",
              "</div>"
            ],
            "text/plain": [
              "   VendorID tpep_pickup_datetime  ... improvement_surcharge  total_amount\n",
              "0       1.0  2015-03-06 08:02:31  ...                   0.3          7.80\n",
              "1       1.0  2015-03-06 08:02:31  ...                   0.3         12.30\n",
              "2       1.0  2015-03-06 08:02:31  ...                   0.3          8.80\n",
              "3       1.0  2015-03-06 08:02:31  ...                   0.3          7.80\n",
              "4       1.0  2015-03-06 08:02:32  ...                   0.3         16.55\n",
              "\n",
              "[5 rows x 19 columns]"
            ]
          },
          "metadata": {},
          "execution_count": 18
        }
      ]
    },
    {
      "cell_type": "code",
      "metadata": {
        "colab": {
          "base_uri": "https://localhost:8080/"
        },
        "id": "c_zlKlTHlT3e",
        "outputId": "c5264918-49f8-4eb3-822f-88bff31df896"
      },
      "source": [
        "#shape of csv file\n",
        "df.shape"
      ],
      "execution_count": 19,
      "outputs": [
        {
          "output_type": "execute_result",
          "data": {
            "text/plain": [
              "(Delayed('int-1ebb0b79-4aed-44cf-9424-3734357915c0'), 19)"
            ]
          },
          "metadata": {},
          "execution_count": 19
        }
      ]
    },
    {
      "cell_type": "code",
      "metadata": {
        "colab": {
          "base_uri": "https://localhost:8080/"
        },
        "id": "nld44mvwlT3g",
        "outputId": "8e369505-2ca8-4f41-f18e-08e4e680cd42"
      },
      "source": [
        "#validate the header of the ingested csv file\n",
        "util.col_header_val(df,config_data)"
      ],
      "execution_count": 20,
      "outputs": [
        {
          "output_type": "stream",
          "name": "stdout",
          "text": [
            "column name and column length validation passed\n"
          ]
        },
        {
          "output_type": "stream",
          "name": "stderr",
          "text": [
            "FutureWarning: The default value of regex will change from True to False in a future version.\n"
          ]
        },
        {
          "output_type": "execute_result",
          "data": {
            "text/plain": [
              "1"
            ]
          },
          "metadata": {},
          "execution_count": 20
        }
      ]
    },
    {
      "cell_type": "code",
      "metadata": {
        "colab": {
          "base_uri": "https://localhost:8080/"
        },
        "id": "I8baJygcQ6Lt",
        "outputId": "3b768cd9-a793-4077-fbbc-3f6572492214"
      },
      "source": [
        "print(\"columns of files are:\" ,df.columns)\n",
        "print(\"columns of YAML are:\" ,config_data['columns'])"
      ],
      "execution_count": 21,
      "outputs": [
        {
          "output_type": "stream",
          "name": "stdout",
          "text": [
            "columns of files are: Index(['vendorid', 'tpep_pickup_datetime', 'tpep_dropoff_datetime',\n",
            "       'passenger_count', 'trip_distance', 'pickup_longitude',\n",
            "       'pickup_latitude', 'ratecodeid', 'store_and_fwd_flag',\n",
            "       'dropoff_longitude', 'dropoff_latitude', 'payment_type', 'fare_amount',\n",
            "       'extra', 'mta_tax', 'tip_amount', 'tolls_amount',\n",
            "       'improvement_surcharge', 'total_amount'],\n",
            "      dtype='object')\n",
            "columns of YAML are: ['vendorid', 'tpep_pickup_datetime', 'tpep_dropoff_datetime', 'passenger_count', 'trip_distance', 'pickup_longitude', 'pickup_latitude', 'ratecodeid', 'store_and_fwd_flag', 'dropoff_longitude', 'dropoff_latitude', 'payment_type', 'fare_amount', 'extra', 'mta_tax', 'tip_amount', 'tolls_amount', 'improvement_surcharge', 'total_amount']\n"
          ]
        }
      ]
    },
    {
      "cell_type": "code",
      "metadata": {
        "colab": {
          "base_uri": "https://localhost:8080/"
        },
        "id": "1QUZX_OBRE1L",
        "outputId": "fe9d712f-7108-4aae-a9fa-7e195cec9786"
      },
      "source": [
        "if util.col_header_val(df,config_data)==0:\n",
        "    print(\"validation failed\")\n",
        "    # write code to reject the file\n",
        "else:\n",
        "    print(\"col validation passed\")\n",
        "    # write the code to perform further action\n",
        "    # in the pipleine"
      ],
      "execution_count": 22,
      "outputs": [
        {
          "output_type": "stream",
          "name": "stdout",
          "text": [
            "column name and column length validation passed\n",
            "col validation passed\n"
          ]
        },
        {
          "output_type": "stream",
          "name": "stderr",
          "text": [
            "FutureWarning: The default value of regex will change from True to False in a future version.\n"
          ]
        }
      ]
    },
    {
      "cell_type": "code",
      "metadata": {
        "colab": {
          "base_uri": "https://localhost:8080/",
          "height": 226
        },
        "id": "Ktt16qhPlT3i",
        "outputId": "0a4b4ba6-da97-4a7a-fcee-4a9589f065e0"
      },
      "source": [
        "#reading file in pipe separated format using config file\n",
        "\n",
        "out_df = dd.read_csv(source_file, delimiter=config_data['outbound_delimiter'])\n",
        "out_df.head()"
      ],
      "execution_count": 24,
      "outputs": [
        {
          "output_type": "execute_result",
          "data": {
            "text/html": [
              "<div>\n",
              "<style scoped>\n",
              "    .dataframe tbody tr th:only-of-type {\n",
              "        vertical-align: middle;\n",
              "    }\n",
              "\n",
              "    .dataframe tbody tr th {\n",
              "        vertical-align: top;\n",
              "    }\n",
              "\n",
              "    .dataframe thead th {\n",
              "        text-align: right;\n",
              "    }\n",
              "</style>\n",
              "<table border=\"1\" class=\"dataframe\">\n",
              "  <thead>\n",
              "    <tr style=\"text-align: right;\">\n",
              "      <th></th>\n",
              "      <th>VendorID,tpep_pickup_datetime,tpep_dropoff_datetime,passenger_count,trip_distance,pickup_longitude,pickup_latitude,RateCodeID,store_and_fwd_flag,dropoff_longitude,dropoff_latitude,payment_type,fare_amount,extra,mta_tax,tip_amount,tolls_amount,improvement_surcharge,total_amount</th>\n",
              "    </tr>\n",
              "  </thead>\n",
              "  <tbody>\n",
              "    <tr>\n",
              "      <th>0</th>\n",
              "      <td>1,2015-03-06 08:02:31,2015-03-06 08:09:55,1,1....</td>\n",
              "    </tr>\n",
              "    <tr>\n",
              "      <th>1</th>\n",
              "      <td>1,2015-03-06 08:02:31,2015-03-06 08:15:23,1,3....</td>\n",
              "    </tr>\n",
              "    <tr>\n",
              "      <th>2</th>\n",
              "      <td>1,2015-03-06 08:02:31,2015-03-06 08:12:27,1,1....</td>\n",
              "    </tr>\n",
              "    <tr>\n",
              "      <th>3</th>\n",
              "      <td>1,2015-03-06 08:02:31,2015-03-06 08:09:09,1,.8...</td>\n",
              "    </tr>\n",
              "    <tr>\n",
              "      <th>4</th>\n",
              "      <td>1,2015-03-06 08:02:32,2015-03-06 08:19:37,1,2....</td>\n",
              "    </tr>\n",
              "  </tbody>\n",
              "</table>\n",
              "</div>"
            ],
            "text/plain": [
              "  VendorID,tpep_pickup_datetime,tpep_dropoff_datetime,passenger_count,trip_distance,pickup_longitude,pickup_latitude,RateCodeID,store_and_fwd_flag,dropoff_longitude,dropoff_latitude,payment_type,fare_amount,extra,mta_tax,tip_amount,tolls_amount,improvement_surcharge,total_amount\n",
              "0  1,2015-03-06 08:02:31,2015-03-06 08:09:55,1,1....                                                                                                                                                                                                                                   \n",
              "1  1,2015-03-06 08:02:31,2015-03-06 08:15:23,1,3....                                                                                                                                                                                                                                   \n",
              "2  1,2015-03-06 08:02:31,2015-03-06 08:12:27,1,1....                                                                                                                                                                                                                                   \n",
              "3  1,2015-03-06 08:02:31,2015-03-06 08:09:09,1,.8...                                                                                                                                                                                                                                   \n",
              "4  1,2015-03-06 08:02:32,2015-03-06 08:19:37,1,2....                                                                                                                                                                                                                                   "
            ]
          },
          "metadata": {},
          "execution_count": 24
        }
      ]
    },
    {
      "cell_type": "code",
      "metadata": {
        "colab": {
          "base_uri": "https://localhost:8080/"
        },
        "id": "VyfXN8mSlT3k",
        "outputId": "63f0c1a4-47c2-42bd-c890-3dc0d4c7c2be"
      },
      "source": [
        "#shape of pipe separated file\n",
        "out_df.shape"
      ],
      "execution_count": 25,
      "outputs": [
        {
          "output_type": "execute_result",
          "data": {
            "text/plain": [
              "(Delayed('int-d95bfdd0-51bf-461b-911b-ee69300efbd2'), 1)"
            ]
          },
          "metadata": {},
          "execution_count": 25
        }
      ]
    },
    {
      "cell_type": "code",
      "metadata": {
        "colab": {
          "base_uri": "https://localhost:8080/"
        },
        "id": "gBEzHC5UlT3m",
        "outputId": "911661a1-bfd6-4a6e-b488-513627d625ba"
      },
      "source": [
        "#creating a gz file\n",
        "out_df.to_csv(r'/content/gdrive/My Drive/file.gz', single_file=True, compression='gzip')"
      ],
      "execution_count": 26,
      "outputs": [
        {
          "output_type": "execute_result",
          "data": {
            "text/plain": [
              "['/content/gdrive/My Drive/file.gz']"
            ]
          },
          "metadata": {},
          "execution_count": 26
        }
      ]
    }
  ]
}